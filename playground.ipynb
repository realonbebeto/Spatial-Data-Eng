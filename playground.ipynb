{
 "cells": [
  {
   "cell_type": "code",
   "execution_count": 1,
   "metadata": {},
   "outputs": [],
   "source": [
    "import geopandas as gpd\n",
    "import pandas as pd\n",
    "import boto3\n",
    "from sqlalchemy import create_engine, text\n",
    "from sqlalchemy.ext.declarative import declarative_base\n",
    "from config import settings"
   ]
  },
  {
   "cell_type": "code",
   "execution_count": 2,
   "metadata": {},
   "outputs": [],
   "source": [
    "#BUCKET_NAME = 'ds-interview-sandbox'\n",
    "#client = boto3.client('s3')\n",
    "#s3 = boto3.resource('s3')\n",
    "#bucket = s3.Bucket(BUCKET_NAME)"
   ]
  },
  {
   "cell_type": "code",
   "execution_count": 3,
   "metadata": {},
   "outputs": [],
   "source": [
    "gdf = gpd.read_file('./uga_regions.geojson')\n",
    "gdf.columns = [x.lower() for x in gdf.columns]"
   ]
  },
  {
   "cell_type": "code",
   "execution_count": 4,
   "metadata": {},
   "outputs": [
    {
     "data": {
      "text/html": [
       "<div>\n",
       "<style scoped>\n",
       "    .dataframe tbody tr th:only-of-type {\n",
       "        vertical-align: middle;\n",
       "    }\n",
       "\n",
       "    .dataframe tbody tr th {\n",
       "        vertical-align: top;\n",
       "    }\n",
       "\n",
       "    .dataframe thead th {\n",
       "        text-align: right;\n",
       "    }\n",
       "</style>\n",
       "<table border=\"1\" class=\"dataframe\">\n",
       "  <thead>\n",
       "    <tr style=\"text-align: right;\">\n",
       "      <th></th>\n",
       "      <th>name</th>\n",
       "      <th>iso_code</th>\n",
       "      <th>iso2_code</th>\n",
       "      <th>area_type</th>\n",
       "      <th>geometry</th>\n",
       "    </tr>\n",
       "  </thead>\n",
       "  <tbody>\n",
       "    <tr>\n",
       "      <th>0</th>\n",
       "      <td>Eastern</td>\n",
       "      <td>UG-E</td>\n",
       "      <td>UGA</td>\n",
       "      <td>Regions</td>\n",
       "      <td>MULTIPOLYGON (((33.51939 -1.00000, 33.52066 -0...</td>\n",
       "    </tr>\n",
       "    <tr>\n",
       "      <th>1</th>\n",
       "      <td>Western</td>\n",
       "      <td>UG-W</td>\n",
       "      <td>UGA</td>\n",
       "      <td>Regions</td>\n",
       "      <td>MULTIPOLYGON (((29.65173 -0.64149, 29.65195 -0...</td>\n",
       "    </tr>\n",
       "    <tr>\n",
       "      <th>2</th>\n",
       "      <td>Central</td>\n",
       "      <td>UG-C</td>\n",
       "      <td>UGA</td>\n",
       "      <td>Regions</td>\n",
       "      <td>MULTIPOLYGON (((32.97509 0.90589, 32.97594 0.9...</td>\n",
       "    </tr>\n",
       "    <tr>\n",
       "      <th>3</th>\n",
       "      <td>Northern</td>\n",
       "      <td>UG-N</td>\n",
       "      <td>UGA</td>\n",
       "      <td>Regions</td>\n",
       "      <td>MULTIPOLYGON (((32.19980 3.50716, 32.20084 3.5...</td>\n",
       "    </tr>\n",
       "  </tbody>\n",
       "</table>\n",
       "</div>"
      ],
      "text/plain": [
       "       name iso_code iso2_code area_type  \\\n",
       "0   Eastern     UG-E       UGA   Regions   \n",
       "1   Western     UG-W       UGA   Regions   \n",
       "2   Central     UG-C       UGA   Regions   \n",
       "3  Northern     UG-N       UGA   Regions   \n",
       "\n",
       "                                            geometry  \n",
       "0  MULTIPOLYGON (((33.51939 -1.00000, 33.52066 -0...  \n",
       "1  MULTIPOLYGON (((29.65173 -0.64149, 29.65195 -0...  \n",
       "2  MULTIPOLYGON (((32.97509 0.90589, 32.97594 0.9...  \n",
       "3  MULTIPOLYGON (((32.19980 3.50716, 32.20084 3.5...  "
      ]
     },
     "execution_count": 4,
     "metadata": {},
     "output_type": "execute_result"
    }
   ],
   "source": [
    "gdf.head()"
   ]
  },
  {
   "cell_type": "code",
   "execution_count": 5,
   "metadata": {},
   "outputs": [],
   "source": [
    "# Renaming Cols\n",
    "cols = {\"v001\": \"cluster_id\",\n",
    "        \"v002\": \"household_no\",\n",
    "        \"v003\": \"respondent_line\",\n",
    "        \"v012\": \"respondent_age\",\n",
    "        \"v133\": \"education_ages\",\n",
    "        \"v535\": \"married\",\n",
    "        \"adult_radio_regular\": \"adult_radio_regular\",\n",
    "        \"v751\": \"HIV_aware\",\n",
    "        \"sex\": \"sex\", }\n",
    "# Read DHS\n",
    "dhs = pd.read_csv(\"./uga_dhs_2016.csv\")\n",
    "dhs = dhs.rename(columns=cols)"
   ]
  },
  {
   "cell_type": "code",
   "execution_count": 6,
   "metadata": {},
   "outputs": [
    {
     "data": {
      "text/html": [
       "<div>\n",
       "<style scoped>\n",
       "    .dataframe tbody tr th:only-of-type {\n",
       "        vertical-align: middle;\n",
       "    }\n",
       "\n",
       "    .dataframe tbody tr th {\n",
       "        vertical-align: top;\n",
       "    }\n",
       "\n",
       "    .dataframe thead th {\n",
       "        text-align: right;\n",
       "    }\n",
       "</style>\n",
       "<table border=\"1\" class=\"dataframe\">\n",
       "  <thead>\n",
       "    <tr style=\"text-align: right;\">\n",
       "      <th></th>\n",
       "      <th>cluster_id</th>\n",
       "      <th>household_no</th>\n",
       "      <th>respondent_line</th>\n",
       "      <th>respondent_age</th>\n",
       "      <th>education_ages</th>\n",
       "      <th>married</th>\n",
       "      <th>HIV_aware</th>\n",
       "      <th>adult_radio_regular</th>\n",
       "      <th>sex</th>\n",
       "    </tr>\n",
       "  </thead>\n",
       "  <tbody>\n",
       "    <tr>\n",
       "      <th>0</th>\n",
       "      <td>1</td>\n",
       "      <td>1</td>\n",
       "      <td>2</td>\n",
       "      <td>19</td>\n",
       "      <td>15</td>\n",
       "      <td>0.0</td>\n",
       "      <td>1</td>\n",
       "      <td>0</td>\n",
       "      <td>female</td>\n",
       "    </tr>\n",
       "    <tr>\n",
       "      <th>1</th>\n",
       "      <td>1</td>\n",
       "      <td>3</td>\n",
       "      <td>2</td>\n",
       "      <td>25</td>\n",
       "      <td>9</td>\n",
       "      <td>NaN</td>\n",
       "      <td>1</td>\n",
       "      <td>1</td>\n",
       "      <td>female</td>\n",
       "    </tr>\n",
       "    <tr>\n",
       "      <th>2</th>\n",
       "      <td>1</td>\n",
       "      <td>4</td>\n",
       "      <td>1</td>\n",
       "      <td>40</td>\n",
       "      <td>5</td>\n",
       "      <td>1.0</td>\n",
       "      <td>1</td>\n",
       "      <td>0</td>\n",
       "      <td>female</td>\n",
       "    </tr>\n",
       "    <tr>\n",
       "      <th>3</th>\n",
       "      <td>1</td>\n",
       "      <td>4</td>\n",
       "      <td>2</td>\n",
       "      <td>21</td>\n",
       "      <td>6</td>\n",
       "      <td>NaN</td>\n",
       "      <td>1</td>\n",
       "      <td>0</td>\n",
       "      <td>female</td>\n",
       "    </tr>\n",
       "    <tr>\n",
       "      <th>4</th>\n",
       "      <td>1</td>\n",
       "      <td>4</td>\n",
       "      <td>3</td>\n",
       "      <td>16</td>\n",
       "      <td>9</td>\n",
       "      <td>0.0</td>\n",
       "      <td>1</td>\n",
       "      <td>0</td>\n",
       "      <td>female</td>\n",
       "    </tr>\n",
       "  </tbody>\n",
       "</table>\n",
       "</div>"
      ],
      "text/plain": [
       "   cluster_id  household_no  respondent_line  respondent_age  education_ages  \\\n",
       "0           1             1                2              19              15   \n",
       "1           1             3                2              25               9   \n",
       "2           1             4                1              40               5   \n",
       "3           1             4                2              21               6   \n",
       "4           1             4                3              16               9   \n",
       "\n",
       "   married  HIV_aware  adult_radio_regular     sex  \n",
       "0      0.0          1                    0  female  \n",
       "1      NaN          1                    1  female  \n",
       "2      1.0          1                    0  female  \n",
       "3      NaN          1                    0  female  \n",
       "4      0.0          1                    0  female  "
      ]
     },
     "execution_count": 6,
     "metadata": {},
     "output_type": "execute_result"
    }
   ],
   "source": [
    "dhs.head()"
   ]
  },
  {
   "cell_type": "code",
   "execution_count": 7,
   "metadata": {},
   "outputs": [],
   "source": [
    "def boolify(val: int):\n",
    "    if val > 0:\n",
    "        return 'yes'\n",
    "    elif val == 0:\n",
    "        return 'no'\n",
    "    else:\n",
    "        return None"
   ]
  },
  {
   "cell_type": "code",
   "execution_count": 8,
   "metadata": {},
   "outputs": [],
   "source": [
    "dhs['married'] = dhs.married.apply(lambda x: boolify(x))\n",
    "dhs['HIV_aware'] = dhs.HIV_aware.apply(lambda x: boolify(x))\n",
    "dhs['adult_radio_regular'] = dhs.adult_radio_regular.apply(\n",
    "    lambda x: boolify(x))\n"
   ]
  },
  {
   "cell_type": "code",
   "execution_count": 9,
   "metadata": {},
   "outputs": [
    {
     "data": {
      "text/html": [
       "<div>\n",
       "<style scoped>\n",
       "    .dataframe tbody tr th:only-of-type {\n",
       "        vertical-align: middle;\n",
       "    }\n",
       "\n",
       "    .dataframe tbody tr th {\n",
       "        vertical-align: top;\n",
       "    }\n",
       "\n",
       "    .dataframe thead th {\n",
       "        text-align: right;\n",
       "    }\n",
       "</style>\n",
       "<table border=\"1\" class=\"dataframe\">\n",
       "  <thead>\n",
       "    <tr style=\"text-align: right;\">\n",
       "      <th></th>\n",
       "      <th>cluster_id</th>\n",
       "      <th>household_no</th>\n",
       "      <th>respondent_line</th>\n",
       "      <th>respondent_age</th>\n",
       "      <th>education_ages</th>\n",
       "      <th>married</th>\n",
       "      <th>HIV_aware</th>\n",
       "      <th>adult_radio_regular</th>\n",
       "      <th>sex</th>\n",
       "    </tr>\n",
       "  </thead>\n",
       "  <tbody>\n",
       "    <tr>\n",
       "      <th>0</th>\n",
       "      <td>1</td>\n",
       "      <td>1</td>\n",
       "      <td>2</td>\n",
       "      <td>19</td>\n",
       "      <td>15</td>\n",
       "      <td>no</td>\n",
       "      <td>yes</td>\n",
       "      <td>no</td>\n",
       "      <td>female</td>\n",
       "    </tr>\n",
       "    <tr>\n",
       "      <th>1</th>\n",
       "      <td>1</td>\n",
       "      <td>3</td>\n",
       "      <td>2</td>\n",
       "      <td>25</td>\n",
       "      <td>9</td>\n",
       "      <td>None</td>\n",
       "      <td>yes</td>\n",
       "      <td>yes</td>\n",
       "      <td>female</td>\n",
       "    </tr>\n",
       "    <tr>\n",
       "      <th>2</th>\n",
       "      <td>1</td>\n",
       "      <td>4</td>\n",
       "      <td>1</td>\n",
       "      <td>40</td>\n",
       "      <td>5</td>\n",
       "      <td>yes</td>\n",
       "      <td>yes</td>\n",
       "      <td>no</td>\n",
       "      <td>female</td>\n",
       "    </tr>\n",
       "    <tr>\n",
       "      <th>3</th>\n",
       "      <td>1</td>\n",
       "      <td>4</td>\n",
       "      <td>2</td>\n",
       "      <td>21</td>\n",
       "      <td>6</td>\n",
       "      <td>None</td>\n",
       "      <td>yes</td>\n",
       "      <td>no</td>\n",
       "      <td>female</td>\n",
       "    </tr>\n",
       "    <tr>\n",
       "      <th>4</th>\n",
       "      <td>1</td>\n",
       "      <td>4</td>\n",
       "      <td>3</td>\n",
       "      <td>16</td>\n",
       "      <td>9</td>\n",
       "      <td>no</td>\n",
       "      <td>yes</td>\n",
       "      <td>no</td>\n",
       "      <td>female</td>\n",
       "    </tr>\n",
       "  </tbody>\n",
       "</table>\n",
       "</div>"
      ],
      "text/plain": [
       "   cluster_id  household_no  respondent_line  respondent_age  education_ages  \\\n",
       "0           1             1                2              19              15   \n",
       "1           1             3                2              25               9   \n",
       "2           1             4                1              40               5   \n",
       "3           1             4                2              21               6   \n",
       "4           1             4                3              16               9   \n",
       "\n",
       "  married HIV_aware adult_radio_regular     sex  \n",
       "0      no       yes                  no  female  \n",
       "1    None       yes                 yes  female  \n",
       "2     yes       yes                  no  female  \n",
       "3    None       yes                  no  female  \n",
       "4      no       yes                  no  female  "
      ]
     },
     "execution_count": 9,
     "metadata": {},
     "output_type": "execute_result"
    }
   ],
   "source": [
    "dhs.head()"
   ]
  },
  {
   "cell_type": "code",
   "execution_count": 10,
   "metadata": {},
   "outputs": [],
   "source": [
    "# Read Custers\n",
    "ug_clusters = pd.read_csv(\"./ug_clusters.csv\")\n",
    "ug_clusters = ug_clusters.rename(columns={\"v001\": \"cluster_id\"})\n",
    "ug_clusters = gpd.GeoDataFrame(\n",
    "    ug_clusters, geometry=gpd.points_from_xy(ug_clusters.LONGNUM, ug_clusters.LATNUM))\n",
    "ug_clusters.columns = [x.lower() for x in ug_clusters.columns]\n",
    "ug_clusters = ug_clusters.set_crs(4326, allow_override=True)\n"
   ]
  },
  {
   "cell_type": "code",
   "execution_count": 11,
   "metadata": {},
   "outputs": [
    {
     "data": {
      "text/html": [
       "<div>\n",
       "<style scoped>\n",
       "    .dataframe tbody tr th:only-of-type {\n",
       "        vertical-align: middle;\n",
       "    }\n",
       "\n",
       "    .dataframe tbody tr th {\n",
       "        vertical-align: top;\n",
       "    }\n",
       "\n",
       "    .dataframe thead th {\n",
       "        text-align: right;\n",
       "    }\n",
       "</style>\n",
       "<table border=\"1\" class=\"dataframe\">\n",
       "  <thead>\n",
       "    <tr style=\"text-align: right;\">\n",
       "      <th></th>\n",
       "      <th>cluster_id</th>\n",
       "      <th>latnum</th>\n",
       "      <th>longnum</th>\n",
       "      <th>geometry</th>\n",
       "    </tr>\n",
       "  </thead>\n",
       "  <tbody>\n",
       "    <tr>\n",
       "      <th>0</th>\n",
       "      <td>1</td>\n",
       "      <td>0.320188</td>\n",
       "      <td>32.568206</td>\n",
       "      <td>POINT (32.56821 0.32019)</td>\n",
       "    </tr>\n",
       "    <tr>\n",
       "      <th>1</th>\n",
       "      <td>2</td>\n",
       "      <td>0.340653</td>\n",
       "      <td>32.593627</td>\n",
       "      <td>POINT (32.59363 0.34065)</td>\n",
       "    </tr>\n",
       "    <tr>\n",
       "      <th>2</th>\n",
       "      <td>3</td>\n",
       "      <td>0.313103</td>\n",
       "      <td>32.566556</td>\n",
       "      <td>POINT (32.56656 0.31310)</td>\n",
       "    </tr>\n",
       "    <tr>\n",
       "      <th>3</th>\n",
       "      <td>4</td>\n",
       "      <td>0.353368</td>\n",
       "      <td>32.558144</td>\n",
       "      <td>POINT (32.55814 0.35337)</td>\n",
       "    </tr>\n",
       "    <tr>\n",
       "      <th>4</th>\n",
       "      <td>5</td>\n",
       "      <td>0.367388</td>\n",
       "      <td>32.594357</td>\n",
       "      <td>POINT (32.59436 0.36739)</td>\n",
       "    </tr>\n",
       "  </tbody>\n",
       "</table>\n",
       "</div>"
      ],
      "text/plain": [
       "   cluster_id    latnum    longnum                  geometry\n",
       "0           1  0.320188  32.568206  POINT (32.56821 0.32019)\n",
       "1           2  0.340653  32.593627  POINT (32.59363 0.34065)\n",
       "2           3  0.313103  32.566556  POINT (32.56656 0.31310)\n",
       "3           4  0.353368  32.558144  POINT (32.55814 0.35337)\n",
       "4           5  0.367388  32.594357  POINT (32.59436 0.36739)"
      ]
     },
     "execution_count": 11,
     "metadata": {},
     "output_type": "execute_result"
    }
   ],
   "source": [
    "ug_clusters.head()"
   ]
  },
  {
   "cell_type": "code",
   "execution_count": 19,
   "metadata": {},
   "outputs": [],
   "source": [
    "# Merge Regions and Cluster\n",
    "clus_reg = ug_clusters.sjoin(gdf, how=\"left\")"
   ]
  },
  {
   "cell_type": "code",
   "execution_count": 20,
   "metadata": {},
   "outputs": [
    {
     "data": {
      "text/html": [
       "<div>\n",
       "<style scoped>\n",
       "    .dataframe tbody tr th:only-of-type {\n",
       "        vertical-align: middle;\n",
       "    }\n",
       "\n",
       "    .dataframe tbody tr th {\n",
       "        vertical-align: top;\n",
       "    }\n",
       "\n",
       "    .dataframe thead th {\n",
       "        text-align: right;\n",
       "    }\n",
       "</style>\n",
       "<table border=\"1\" class=\"dataframe\">\n",
       "  <thead>\n",
       "    <tr style=\"text-align: right;\">\n",
       "      <th></th>\n",
       "      <th>cluster_id</th>\n",
       "      <th>latnum</th>\n",
       "      <th>longnum</th>\n",
       "      <th>geometry</th>\n",
       "      <th>index_right</th>\n",
       "      <th>name</th>\n",
       "      <th>iso_code</th>\n",
       "      <th>iso2_code</th>\n",
       "      <th>area_type</th>\n",
       "    </tr>\n",
       "  </thead>\n",
       "  <tbody>\n",
       "    <tr>\n",
       "      <th>0</th>\n",
       "      <td>1</td>\n",
       "      <td>0.320188</td>\n",
       "      <td>32.568206</td>\n",
       "      <td>POINT (32.56821 0.32019)</td>\n",
       "      <td>2.0</td>\n",
       "      <td>Central</td>\n",
       "      <td>UG-C</td>\n",
       "      <td>UGA</td>\n",
       "      <td>Regions</td>\n",
       "    </tr>\n",
       "    <tr>\n",
       "      <th>1</th>\n",
       "      <td>2</td>\n",
       "      <td>0.340653</td>\n",
       "      <td>32.593627</td>\n",
       "      <td>POINT (32.59363 0.34065)</td>\n",
       "      <td>2.0</td>\n",
       "      <td>Central</td>\n",
       "      <td>UG-C</td>\n",
       "      <td>UGA</td>\n",
       "      <td>Regions</td>\n",
       "    </tr>\n",
       "    <tr>\n",
       "      <th>2</th>\n",
       "      <td>3</td>\n",
       "      <td>0.313103</td>\n",
       "      <td>32.566556</td>\n",
       "      <td>POINT (32.56656 0.31310)</td>\n",
       "      <td>2.0</td>\n",
       "      <td>Central</td>\n",
       "      <td>UG-C</td>\n",
       "      <td>UGA</td>\n",
       "      <td>Regions</td>\n",
       "    </tr>\n",
       "    <tr>\n",
       "      <th>3</th>\n",
       "      <td>4</td>\n",
       "      <td>0.353368</td>\n",
       "      <td>32.558144</td>\n",
       "      <td>POINT (32.55814 0.35337)</td>\n",
       "      <td>2.0</td>\n",
       "      <td>Central</td>\n",
       "      <td>UG-C</td>\n",
       "      <td>UGA</td>\n",
       "      <td>Regions</td>\n",
       "    </tr>\n",
       "    <tr>\n",
       "      <th>4</th>\n",
       "      <td>5</td>\n",
       "      <td>0.367388</td>\n",
       "      <td>32.594357</td>\n",
       "      <td>POINT (32.59436 0.36739)</td>\n",
       "      <td>2.0</td>\n",
       "      <td>Central</td>\n",
       "      <td>UG-C</td>\n",
       "      <td>UGA</td>\n",
       "      <td>Regions</td>\n",
       "    </tr>\n",
       "  </tbody>\n",
       "</table>\n",
       "</div>"
      ],
      "text/plain": [
       "   cluster_id    latnum    longnum                  geometry  index_right  \\\n",
       "0           1  0.320188  32.568206  POINT (32.56821 0.32019)          2.0   \n",
       "1           2  0.340653  32.593627  POINT (32.59363 0.34065)          2.0   \n",
       "2           3  0.313103  32.566556  POINT (32.56656 0.31310)          2.0   \n",
       "3           4  0.353368  32.558144  POINT (32.55814 0.35337)          2.0   \n",
       "4           5  0.367388  32.594357  POINT (32.59436 0.36739)          2.0   \n",
       "\n",
       "      name iso_code iso2_code area_type  \n",
       "0  Central     UG-C       UGA   Regions  \n",
       "1  Central     UG-C       UGA   Regions  \n",
       "2  Central     UG-C       UGA   Regions  \n",
       "3  Central     UG-C       UGA   Regions  \n",
       "4  Central     UG-C       UGA   Regions  "
      ]
     },
     "execution_count": 20,
     "metadata": {},
     "output_type": "execute_result"
    }
   ],
   "source": [
    "clus_reg.head()"
   ]
  },
  {
   "cell_type": "code",
   "execution_count": 23,
   "metadata": {},
   "outputs": [],
   "source": [
    "out = dhs.merge(clus_reg, how=\"left\", on=\"cluster_id\")"
   ]
  },
  {
   "cell_type": "code",
   "execution_count": 25,
   "metadata": {},
   "outputs": [
    {
     "data": {
      "text/plain": [
       "Index(['cluster_id', 'household_no', 'respondent_line', 'respondent_age',\n",
       "       'education_ages', 'married', 'HIV_aware', 'adult_radio_regular', 'sex',\n",
       "       'latnum', 'longnum', 'geometry', 'index_right', 'name', 'iso_code',\n",
       "       'iso2_code', 'area_type'],\n",
       "      dtype='object')"
      ]
     },
     "execution_count": 25,
     "metadata": {},
     "output_type": "execute_result"
    }
   ],
   "source": [
    "out.columns"
   ]
  },
  {
   "cell_type": "code",
   "execution_count": 6,
   "metadata": {},
   "outputs": [],
   "source": [
    "#s3 = boto3.resource('s3')\n",
    "#bucket = s3.Bucket('ds-interview-sandbox')\n",
    "# Iterates through all the objects, doing the pagination for you. Each obj\n",
    "# is an ObjectSummary, so it doesn't contain the body. You'll need to call\n",
    "# get to get the whole body.\n",
    "#for obj in bucket.objects.filter(Prefix='shared/ug'):\n",
    "    #key = obj.key\n",
    "    #print(key)"
   ]
  },
  {
   "cell_type": "code",
   "execution_count": 7,
   "metadata": {},
   "outputs": [],
   "source": [
    "#for obj in bucket.objects.filter(Prefix='shared/ug'):\n",
    "    #key = obj.key\n",
    "    #s3.Bucket(BUCKET_NAME).download_file(key, f\"./{key.split('/')[-1]}\")\n",
    "    #gdf = gpd.read_file(f\"./{key.split('/')[-1]}\")\n",
    "    #gdf.to_postgis()\n",
    "    #print(gdf.shape)"
   ]
  },
  {
   "cell_type": "code",
   "execution_count": 7,
   "metadata": {},
   "outputs": [],
   "source": [
    "DATABASE_URL = f'postgresql+psycopg2://{settings.database_username}:{settings.database_password}@{settings.database_host}:{settings.database_port}/{settings.database_name}'\n",
    "engine = create_engine(DATABASE_URL)"
   ]
  },
  {
   "cell_type": "code",
   "execution_count": 21,
   "metadata": {},
   "outputs": [],
   "source": [
    "df = pd.read_csv(\"./ug_clusters.csv\")\n",
    "ug_clusters = gpd.GeoDataFrame(df, geometry=gpd.points_from_xy(df.LONGNUM, df.LATNUM))\n",
    "ug_clusters.columns = [x.lower() for x in ug_clusters.columns]\n",
    "ug_clusters = ug_clusters.set_crs(4326, allow_override=True)\n",
    "ug_clusters.to_postgis(\"ug_clusters\", engine)"
   ]
  },
  {
   "cell_type": "code",
   "execution_count": 31,
   "metadata": {},
   "outputs": [
    {
     "data": {
      "text/plain": [
       "842"
      ]
     },
     "execution_count": 31,
     "metadata": {},
     "output_type": "execute_result"
    }
   ],
   "source": [
    "df = pd.read_csv(\"./uga_dhs_2016.csv\")\n",
    "df.columns = [x.lower() for x in df.columns]\n",
    "df.to_sql(\"ug_dhs\", engine)"
   ]
  },
  {
   "cell_type": "code",
   "execution_count": 29,
   "metadata": {},
   "outputs": [],
   "source": [
    "gdf = gpd.read_file(\"./uga_regions.geojson\")\n",
    "gdf.columns = [x.lower() for x in gdf.columns]\n",
    "gdf.to_postgis(\"ug_regions\", engine)"
   ]
  },
  {
   "cell_type": "code",
   "execution_count": 12,
   "metadata": {},
   "outputs": [],
   "source": [
    "query = text(\"\"\"SELECT ug_dhs.v751, ug_dhs.v001, ug_clusters.latnum, ug_clusters.longnum, ug_dhs.sex, ug_regions.geometry  \n",
    "FROM ug_dhs \n",
    "JOIN ug_clusters ON ug_dhs.v001 = ug_clusters.v001\n",
    "JOIN ug_regions ON ug_regions.name = 'Northern'\n",
    "WHERE ug_dhs.sex = 'male'\"\"\")"
   ]
  },
  {
   "cell_type": "code",
   "execution_count": 4,
   "metadata": {},
   "outputs": [],
   "source": [
    "query = text(\"select count(dhs.sex) as count from ug_dhs dhs join (select a.v001, (case when ST_contains(b.geometry, a.geometry) then b.name else 'n/a' end) as region FROM public.ug_clusters a, public.ug_regions b) regions on dhs.v001=regions.v001 where regions.region=:region and dhs.sex=:sex and dhs.v751=:aids\").bindparams(region='Northern', sex='male', aids=1)\n"
   ]
  },
  {
   "cell_type": "code",
   "execution_count": 88,
   "metadata": {},
   "outputs": [],
   "source": [
    "region = \"'Northern'\"\n",
    "sex = \"'Male'\"\n",
    "aids = 1"
   ]
  },
  {
   "cell_type": "code",
   "execution_count": 89,
   "metadata": {},
   "outputs": [],
   "source": [
    "#query = \"select count(dhs.sex) as count from ug_dhs dhs join (select a.v001, (case when ST_contains(b.geometry, a.geometry) then b.name else 'n/a' end) as region FROM public.ug_clusters a, public.ug_regions b) regions on dhs.v001=regions.v001 where regions.region={region} and dhs.sex={sex} and dhs.v751={aids}\"\n"
   ]
  },
  {
   "cell_type": "code",
   "execution_count": 8,
   "metadata": {},
   "outputs": [
    {
     "data": {
      "text/plain": [
       "1232"
      ]
     },
     "execution_count": 8,
     "metadata": {},
     "output_type": "execute_result"
    }
   ],
   "source": [
    "engine.execute(query).fetchone()[0]\n"
   ]
  }
 ],
 "metadata": {
  "kernelspec": {
   "display_name": "venv",
   "language": "python",
   "name": "python3"
  },
  "language_info": {
   "codemirror_mode": {
    "name": "ipython",
    "version": 3
   },
   "file_extension": ".py",
   "mimetype": "text/x-python",
   "name": "python",
   "nbconvert_exporter": "python",
   "pygments_lexer": "ipython3",
   "version": "3.8.10"
  },
  "orig_nbformat": 4,
  "vscode": {
   "interpreter": {
    "hash": "48966ba1c1527f49555ee213f7740a4381af813d34a084ba01dd5a2c01c78382"
   }
  }
 },
 "nbformat": 4,
 "nbformat_minor": 2
}
