{
 "cells": [
  {
   "cell_type": "code",
   "execution_count": 1,
   "metadata": {},
   "outputs": [],
   "source": [
    "import geopandas as gpd\n",
    "import pandas as pd\n",
    "import boto3\n",
    "from sqlalchemy import create_engine, text\n",
    "from sqlalchemy.ext.declarative import declarative_base\n",
    "from sqlalchemy.orm import sessionmaker\n",
    "from config import settings"
   ]
  },
  {
   "cell_type": "code",
   "execution_count": 2,
   "metadata": {},
   "outputs": [],
   "source": [
    "BUCKET_NAME = 'ds-interview-sandbox'\n",
    "client = boto3.client('s3')\n",
    "s3 = boto3.resource('s3')\n",
    "bucket = s3.Bucket(BUCKET_NAME)"
   ]
  },
  {
   "cell_type": "code",
   "execution_count": 3,
   "metadata": {},
   "outputs": [],
   "source": [
    "gdf = gpd.read_file('./uga_regions.geojson')"
   ]
  },
  {
   "cell_type": "code",
   "execution_count": 4,
   "metadata": {},
   "outputs": [],
   "source": [
    "gdf.columns = [ x.lower() for x in gdf.columns]"
   ]
  },
  {
   "cell_type": "code",
   "execution_count": 5,
   "metadata": {},
   "outputs": [
    {
     "data": {
      "text/html": [
       "<div>\n",
       "<style scoped>\n",
       "    .dataframe tbody tr th:only-of-type {\n",
       "        vertical-align: middle;\n",
       "    }\n",
       "\n",
       "    .dataframe tbody tr th {\n",
       "        vertical-align: top;\n",
       "    }\n",
       "\n",
       "    .dataframe thead th {\n",
       "        text-align: right;\n",
       "    }\n",
       "</style>\n",
       "<table border=\"1\" class=\"dataframe\">\n",
       "  <thead>\n",
       "    <tr style=\"text-align: right;\">\n",
       "      <th></th>\n",
       "      <th>name</th>\n",
       "      <th>iso_code</th>\n",
       "      <th>iso2_code</th>\n",
       "      <th>area_type</th>\n",
       "      <th>geometry</th>\n",
       "    </tr>\n",
       "  </thead>\n",
       "  <tbody>\n",
       "    <tr>\n",
       "      <th>0</th>\n",
       "      <td>Eastern</td>\n",
       "      <td>UG-E</td>\n",
       "      <td>UGA</td>\n",
       "      <td>Regions</td>\n",
       "      <td>MULTIPOLYGON (((33.51939 -1.00000, 33.52066 -0...</td>\n",
       "    </tr>\n",
       "    <tr>\n",
       "      <th>1</th>\n",
       "      <td>Western</td>\n",
       "      <td>UG-W</td>\n",
       "      <td>UGA</td>\n",
       "      <td>Regions</td>\n",
       "      <td>MULTIPOLYGON (((29.65173 -0.64149, 29.65195 -0...</td>\n",
       "    </tr>\n",
       "    <tr>\n",
       "      <th>2</th>\n",
       "      <td>Central</td>\n",
       "      <td>UG-C</td>\n",
       "      <td>UGA</td>\n",
       "      <td>Regions</td>\n",
       "      <td>MULTIPOLYGON (((32.97509 0.90589, 32.97594 0.9...</td>\n",
       "    </tr>\n",
       "    <tr>\n",
       "      <th>3</th>\n",
       "      <td>Northern</td>\n",
       "      <td>UG-N</td>\n",
       "      <td>UGA</td>\n",
       "      <td>Regions</td>\n",
       "      <td>MULTIPOLYGON (((32.19980 3.50716, 32.20084 3.5...</td>\n",
       "    </tr>\n",
       "  </tbody>\n",
       "</table>\n",
       "</div>"
      ],
      "text/plain": [
       "       name iso_code iso2_code area_type  \\\n",
       "0   Eastern     UG-E       UGA   Regions   \n",
       "1   Western     UG-W       UGA   Regions   \n",
       "2   Central     UG-C       UGA   Regions   \n",
       "3  Northern     UG-N       UGA   Regions   \n",
       "\n",
       "                                            geometry  \n",
       "0  MULTIPOLYGON (((33.51939 -1.00000, 33.52066 -0...  \n",
       "1  MULTIPOLYGON (((29.65173 -0.64149, 29.65195 -0...  \n",
       "2  MULTIPOLYGON (((32.97509 0.90589, 32.97594 0.9...  \n",
       "3  MULTIPOLYGON (((32.19980 3.50716, 32.20084 3.5...  "
      ]
     },
     "execution_count": 5,
     "metadata": {},
     "output_type": "execute_result"
    }
   ],
   "source": [
    "gdf"
   ]
  },
  {
   "cell_type": "code",
   "execution_count": 6,
   "metadata": {},
   "outputs": [
    {
     "name": "stdout",
     "output_type": "stream",
     "text": [
      "shared/ug_clusters.csv\n",
      "shared/uga_dhs_2016.csv\n",
      "shared/uga_regions.geojson\n"
     ]
    }
   ],
   "source": [
    "s3 = boto3.resource('s3')\n",
    "bucket = s3.Bucket('ds-interview-sandbox')\n",
    "# Iterates through all the objects, doing the pagination for you. Each obj\n",
    "# is an ObjectSummary, so it doesn't contain the body. You'll need to call\n",
    "# get to get the whole body.\n",
    "for obj in bucket.objects.filter(Prefix='shared/ug'):\n",
    "    key = obj.key\n",
    "    print(key)"
   ]
  },
  {
   "cell_type": "code",
   "execution_count": 7,
   "metadata": {},
   "outputs": [
    {
     "name": "stdout",
     "output_type": "stream",
     "text": [
      "(696, 4)\n",
      "(23842, 10)\n",
      "(4, 5)\n"
     ]
    }
   ],
   "source": [
    "for obj in bucket.objects.filter(Prefix='shared/ug'):\n",
    "    key = obj.key\n",
    "    s3.Bucket(BUCKET_NAME).download_file(key, f\"./{key.split('/')[-1]}\")"
   ]
  },
  {
   "cell_type": "code",
   "execution_count": 8,
   "metadata": {},
   "outputs": [],
   "source": [
    "DATABASE_URL = f'postgresql+psycopg2://{settings.database_username}:{settings.database_password}@{settings.database_host}:{settings.database_port}/{settings.database_name}'\n",
    "\n",
    "engine = create_engine(DATABASE_URL)\n",
    "SessionLocal = sessionmaker(autocommit=False, autoflush=False, bind=engine)\n"
   ]
  },
  {
   "cell_type": "code",
   "execution_count": 9,
   "metadata": {},
   "outputs": [],
   "source": [
    "\n",
    "def load_db(path:str, table:str, conn = engine):\n",
    "    if path.split(\".\")[-1] == \"geojson\":\n",
    "        gdf = gpd.read_file(path)\n",
    "        gdf.columns = [x.lower() for x in gdf.columns]\n",
    "        gdf.to_postgis(table, conn)\n",
    "\n",
    "    else:\n",
    "        df = pd.read_csv(path)\n",
    "        df.columns = [x.lower() for x in df.columns]\n",
    "        df.to_sql(table, conn)"
   ]
  },
  {
   "cell_type": "code",
   "execution_count": 10,
   "metadata": {},
   "outputs": [],
   "source": [
    "#load_db(\"./ug_clusters.csv\", 'ug_clusters')"
   ]
  },
  {
   "cell_type": "code",
   "execution_count": 11,
   "metadata": {},
   "outputs": [
    {
     "data": {
      "text/plain": [
       "'SELECT a.v001, a.v751, a.sex, b.LATNUM, b.LONGNUM\\n\\nFROM ug_dhs a\\nINNER JOIN ug_clusters b\\nON a.v001 = b.v001'"
      ]
     },
     "execution_count": 11,
     "metadata": {},
     "output_type": "execute_result"
    }
   ],
   "source": [
    "\"\"\"SELECT a.v001, a.v751, a.sex, b.LATNUM, b.LONGNUM\n",
    "\n",
    "FROM ug_dhs a\n",
    "INNER JOIN ug_clusters b\n",
    "ON a.v001 = b.v001\"\"\""
   ]
  },
  {
   "cell_type": "code",
   "execution_count": 12,
   "metadata": {},
   "outputs": [],
   "source": [
    "query = text(\"\"\"SELECT ug_dhs.v751, ug_dhs.v001, ug_clusters.latnum, ug_clusters.longnum, ug_dhs.sex, ug_regions.geometry  \n",
    "FROM ug_dhs \n",
    "JOIN ug_clusters ON ug_dhs.v001 = ug_clusters.v001\n",
    "JOIN ug_regions ON ug_regions.name = 'Northern'\n",
    "WHERE ug_dhs.sex = 'male'\"\"\")"
   ]
  },
  {
   "cell_type": "code",
   "execution_count": 13,
   "metadata": {},
   "outputs": [
    {
     "data": {
      "text/plain": [
       "'\"\\nCASE\\n    WHEN condition1 THEN result1\\n    WHEN condition2 THEN result2\\n    WHEN conditionN THEN resultN\\n    ELSE result\\nEND;\\n'"
      ]
     },
     "execution_count": 13,
     "metadata": {},
     "output_type": "execute_result"
    }
   ],
   "source": [
    "\"\"\"\"\n",
    "CASE\n",
    "    WHEN condition1 THEN result1\n",
    "    WHEN condition2 THEN result2\n",
    "    WHEN conditionN THEN resultN\n",
    "    ELSE result\n",
    "END;\n",
    "\"\"\""
   ]
  },
  {
   "cell_type": "code",
   "execution_count": 15,
   "metadata": {},
   "outputs": [],
   "source": [
    "engine.execute(query).fetchone()"
   ]
  },
  {
   "cell_type": "code",
   "execution_count": null,
   "metadata": {},
   "outputs": [],
   "source": []
  }
 ],
 "metadata": {
  "kernelspec": {
   "display_name": "Python 3.8.10 ('venv': venv)",
   "language": "python",
   "name": "python3"
  },
  "language_info": {
   "codemirror_mode": {
    "name": "ipython",
    "version": 3
   },
   "file_extension": ".py",
   "mimetype": "text/x-python",
   "name": "python",
   "nbconvert_exporter": "python",
   "pygments_lexer": "ipython3",
   "version": "3.8.10"
  },
  "orig_nbformat": 4,
  "vscode": {
   "interpreter": {
    "hash": "e1bfde6cc061607bf48312780044cd4f10fe062ff424d4375ed35f8d4b243469"
   }
  }
 },
 "nbformat": 4,
 "nbformat_minor": 2
}
