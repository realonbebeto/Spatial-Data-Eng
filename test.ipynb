{
 "cells": [
  {
   "cell_type": "code",
   "execution_count": 2,
   "metadata": {},
   "outputs": [],
   "source": [
    "import geopandas as gpd\n",
    "import pandas as pd\n",
    "import boto3\n",
    "from sqlalchemy import create_engine, text\n",
    "from sqlalchemy.ext.declarative import declarative_base\n",
    "from config import settings"
   ]
  },
  {
   "cell_type": "code",
   "execution_count": 2,
   "metadata": {},
   "outputs": [],
   "source": [
    "#BUCKET_NAME = 'ds-interview-sandbox'\n",
    "#client = boto3.client('s3')\n",
    "#s3 = boto3.resource('s3')\n",
    "#bucket = s3.Bucket(BUCKET_NAME)"
   ]
  },
  {
   "cell_type": "code",
   "execution_count": 3,
   "metadata": {},
   "outputs": [],
   "source": [
    "gdf = gpd.read_file('./uga_regions.geojson')\n",
    "gdf.columns = [ x.lower() for x in gdf.columns]"
   ]
  },
  {
   "cell_type": "code",
   "execution_count": 6,
   "metadata": {},
   "outputs": [],
   "source": [
    "#s3 = boto3.resource('s3')\n",
    "#bucket = s3.Bucket('ds-interview-sandbox')\n",
    "# Iterates through all the objects, doing the pagination for you. Each obj\n",
    "# is an ObjectSummary, so it doesn't contain the body. You'll need to call\n",
    "# get to get the whole body.\n",
    "#for obj in bucket.objects.filter(Prefix='shared/ug'):\n",
    "    #key = obj.key\n",
    "    #print(key)"
   ]
  },
  {
   "cell_type": "code",
   "execution_count": 7,
   "metadata": {},
   "outputs": [],
   "source": [
    "#for obj in bucket.objects.filter(Prefix='shared/ug'):\n",
    "    #key = obj.key\n",
    "    #s3.Bucket(BUCKET_NAME).download_file(key, f\"./{key.split('/')[-1]}\")\n",
    "    #gdf = gpd.read_file(f\"./{key.split('/')[-1]}\")\n",
    "    #gdf.to_postgis()\n",
    "    #print(gdf.shape)"
   ]
  },
  {
   "cell_type": "code",
   "execution_count": 7,
   "metadata": {},
   "outputs": [],
   "source": [
    "DATABASE_URL = f'postgresql+psycopg2://{settings.database_username}:{settings.database_password}@{settings.database_host}:{settings.database_port}/{settings.database_name}'\n",
    "engine = create_engine(DATABASE_URL)"
   ]
  },
  {
   "cell_type": "code",
   "execution_count": 21,
   "metadata": {},
   "outputs": [],
   "source": [
    "df = pd.read_csv(\"./ug_clusters.csv\")\n",
    "ug_clusters = gpd.GeoDataFrame(df, geometry=gpd.points_from_xy(df.LONGNUM, df.LATNUM))\n",
    "ug_clusters.columns = [x.lower() for x in ug_clusters.columns]\n",
    "ug_clusters = ug_clusters.set_crs(4326, allow_override=True)\n",
    "ug_clusters.to_postgis(\"ug_clusters\", engine)"
   ]
  },
  {
   "cell_type": "code",
   "execution_count": 31,
   "metadata": {},
   "outputs": [
    {
     "data": {
      "text/plain": [
       "842"
      ]
     },
     "execution_count": 31,
     "metadata": {},
     "output_type": "execute_result"
    }
   ],
   "source": [
    "df = pd.read_csv(\"./uga_dhs_2016.csv\")\n",
    "df.columns = [x.lower() for x in df.columns]\n",
    "df.to_sql(\"ug_dhs\", engine)"
   ]
  },
  {
   "cell_type": "code",
   "execution_count": 29,
   "metadata": {},
   "outputs": [],
   "source": [
    "gdf = gpd.read_file(\"./uga_regions.geojson\")\n",
    "gdf.columns = [x.lower() for x in gdf.columns]\n",
    "gdf.to_postgis(\"ug_regions\", engine)"
   ]
  },
  {
   "cell_type": "code",
   "execution_count": 12,
   "metadata": {},
   "outputs": [],
   "source": [
    "query = text(\"\"\"SELECT ug_dhs.v751, ug_dhs.v001, ug_clusters.latnum, ug_clusters.longnum, ug_dhs.sex, ug_regions.geometry  \n",
    "FROM ug_dhs \n",
    "JOIN ug_clusters ON ug_dhs.v001 = ug_clusters.v001\n",
    "JOIN ug_regions ON ug_regions.name = 'Northern'\n",
    "WHERE ug_dhs.sex = 'male'\"\"\")"
   ]
  },
  {
   "cell_type": "code",
   "execution_count": 4,
   "metadata": {},
   "outputs": [],
   "source": [
    "query = text(\"select count(dhs.sex) as count from ug_dhs dhs join (select a.v001, (case when ST_contains(b.geometry, a.geometry) then b.name else 'n/a' end) as region FROM public.ug_clusters a, public.ug_regions b) regions on dhs.v001=regions.v001 where regions.region=:region and dhs.sex=:sex and dhs.v751=:aids\").bindparams(region='Northern', sex='male', aids=1)\n"
   ]
  },
  {
   "cell_type": "code",
   "execution_count": 88,
   "metadata": {},
   "outputs": [],
   "source": [
    "region = \"'Northern'\"\n",
    "sex = \"'Male'\"\n",
    "aids = 1"
   ]
  },
  {
   "cell_type": "code",
   "execution_count": 89,
   "metadata": {},
   "outputs": [],
   "source": [
    "#query = \"select count(dhs.sex) as count from ug_dhs dhs join (select a.v001, (case when ST_contains(b.geometry, a.geometry) then b.name else 'n/a' end) as region FROM public.ug_clusters a, public.ug_regions b) regions on dhs.v001=regions.v001 where regions.region={region} and dhs.sex={sex} and dhs.v751={aids}\"\n"
   ]
  },
  {
   "cell_type": "code",
   "execution_count": 8,
   "metadata": {},
   "outputs": [
    {
     "data": {
      "text/plain": [
       "1232"
      ]
     },
     "execution_count": 8,
     "metadata": {},
     "output_type": "execute_result"
    }
   ],
   "source": [
    "engine.execute(query).fetchone()[0]\n"
   ]
  }
 ],
 "metadata": {
  "kernelspec": {
   "display_name": "Python 3.8.10 ('venv': venv)",
   "language": "python",
   "name": "python3"
  },
  "language_info": {
   "codemirror_mode": {
    "name": "ipython",
    "version": 3
   },
   "file_extension": ".py",
   "mimetype": "text/x-python",
   "name": "python",
   "nbconvert_exporter": "python",
   "pygments_lexer": "ipython3",
   "version": "3.8.10"
  },
  "orig_nbformat": 4,
  "vscode": {
   "interpreter": {
    "hash": "cd2488990f3448211f26981b3c2d0260972bd7cdafaa07139bba6a380423782a"
   }
  }
 },
 "nbformat": 4,
 "nbformat_minor": 2
}
